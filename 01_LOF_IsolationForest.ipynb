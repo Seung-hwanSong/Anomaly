{
 "cells": [
  {
   "cell_type": "code",
   "execution_count": null,
   "id": "d1d02f6b-2dd9-4df9-bfdf-a0f25d5c0d9c",
   "metadata": {},
   "outputs": [],
   "source": [
    "!git clone https://github.com/Seung-hwanSong/Anomaly.git #코랩 사용"
   ]
  },
  {
   "cell_type": "markdown",
   "id": "a6772379",
   "metadata": {},
   "source": [
    "# [시계열 이상치 탐지 Part 2]\n",
    "## LOF / Isolation Forest"
   ]
  },
  {
   "cell_type": "markdown",
   "id": "09c703c2",
   "metadata": {},
   "source": [
    "##### jupyter notebook 단축키\n",
    "\n",
    "- ctrl+enter: 셀 실행   \n",
    "- shift+enter: 셀 실행 및 다음 셀 이동   \n",
    "- alt+enter: 셀 실행, 다음 셀 이동, 새로운 셀 생성\n",
    "- a: 상단에 새로운 셀 만들기\n",
    "- b: 하단에 새로운 셀 만들기\n",
    "- dd: 셀 삭제(x: 셀 삭제)\n",
    "- 함수 ( ) 안에서 shift+tab: arguments description. shift+tab+tab은 길게 볼 수 있도록"
   ]
  },
  {
   "cell_type": "markdown",
   "id": "b731dc12",
   "metadata": {},
   "source": [
    "## 1. 모듈 불러오기\n"
   ]
  },
  {
   "cell_type": "code",
   "execution_count": null,
   "id": "f0e9f787",
   "metadata": {},
   "outputs": [],
   "source": [
    "''' 데이터 전처리 패키지 '''\n",
    "import numpy as np\n",
    "import pandas as pd\n",
    "\n",
    "''' 기계학습 모델 구축 및 평가 패키지 '''\n",
    "from sklearn.model_selection import train_test_split\n",
    "\n",
    "''' 데이터 시각화 패키지 '''\n",
    "import seaborn as sns\n",
    "import matplotlib.pyplot as plt"
   ]
  },
  {
   "cell_type": "markdown",
   "id": "63b2bdfb",
   "metadata": {},
   "source": [
    "## 2. 데이터 불러오기: NASA Bearing Dataset\n",
    "\n",
    "- 데이터 description <br>\n",
    "    - NASA Bearing Dataset은 NSF I/UCR Center의 Intelligent Maintenance System의 4개의 bearing에서 고장이 발생할 때까지 10분 단위로 수집된 센서 데이터이다. 본 데이터셋은 특정 구간에서 기록된 1-second vibration signal snapshots을 나타내는 여러 개의 파일로 구성되어 있다. 각 파일은 20 kHz 단위로 샘플링 된 20,480개의 data point를 포함하고 있으며, 각 파일의 이름은 데이터가 수집된 시간을 의미한다. 해당 데이터셋은 크게 3개의 데이터를 포함하고 있으며, 본 실습에서 사용하는 데이터는 bearing 1에서 outer race failure가 발생할 때까지 수집된 센서 데이터이다. <br><br>\n",
    "- 변수\n",
    "    - 센서 데이터: Bearing1, Bearing2, Bearing3, Bearing4 <br><br>\n",
    "- 출처: https://ti.arc.nasa.gov/tech/dash/groups/pcoe/prognostic-data-repository/"
   ]
  },
  {
   "cell_type": "markdown",
   "id": "56c0e6bb",
   "metadata": {},
   "source": [
    "<img src=\"https://i.imgur.com/dfFzn3H.jpg\" width=\"600\">"
   ]
  },
  {
   "cell_type": "markdown",
   "id": "56f7eab3",
   "metadata": {},
   "source": [
    "### Step1. 데이터 불러오기"
   ]
  },
  {
   "cell_type": "code",
   "execution_count": null,
   "id": "3c04fb2f",
   "metadata": {},
   "outputs": [],
   "source": [
    "# 데이터 불러오기\n",
    "data = pd.read_csv('/content/Anomaly/data/nasa_bearing_dataset.csv', index_col=0)\n",
    "# data = pd.read_csv('./data/nasa_bearing_dataset.csv', index_col=0)\n",
    "\n",
    "data.index = pd.to_datetime(data.index)\n",
    "data.head()"
   ]
  },
  {
   "cell_type": "code",
   "execution_count": null,
   "id": "fd78fca3",
   "metadata": {},
   "outputs": [],
   "source": [
    "# 데이터 크기\n",
    "print(\"데이터 크기 : \", data.shape)"
   ]
  },
  {
   "cell_type": "markdown",
   "id": "f8512058",
   "metadata": {},
   "source": [
    "### Step2. 데이터 Split"
   ]
  },
  {
   "cell_type": "code",
   "execution_count": null,
   "id": "a2c994ba",
   "metadata": {},
   "outputs": [],
   "source": [
    "X_train = data[data['data_type'] == 'train'].iloc[:, :4]\n",
    "\n",
    "X_test = data[data['data_type'] == 'test'].iloc[:, :4]\n",
    "y_test = data[data['data_type'] == 'test'].iloc[:, -2].values"
   ]
  },
  {
   "cell_type": "code",
   "execution_count": null,
   "id": "ec6760f4",
   "metadata": {},
   "outputs": [],
   "source": [
    "X_valid, X_test, y_valid, y_test = train_test_split(X_test, y_test, test_size=0.6, random_state=2024)\n",
    "\n",
    "print(\"Training data shape:\", X_train.shape)\n",
    "print(\"Validation data shape:\", X_valid.shape)\n",
    "print(\"Test data shape:\", X_test.shape)"
   ]
  },
  {
   "cell_type": "markdown",
   "id": "cff080ad",
   "metadata": {},
   "source": [
    "## 3. Local Oulier Factor\n",
    "\n",
    ">이상치 스코어를 산출할 떄 주변부 데이터의 밀도를 고려하고자 함"
   ]
  },
  {
   "cell_type": "markdown",
   "id": "e5d471b0",
   "metadata": {},
   "source": [
    "<img src=\"https://i.imgur.com/flXG1jT.jpg\" width=\"450\">"
   ]
  },
  {
   "cell_type": "code",
   "execution_count": null,
   "id": "46c46937",
   "metadata": {},
   "outputs": [],
   "source": [
    "# LOF 모듈 불러오기\n",
    "\n",
    "from sklearn.preprocessing import StandardScaler\n",
    "from sklearn.neighbors import LocalOutlierFactor\n",
    "from sklearn.metrics import confusion_matrix, f1_score, roc_curve, auc"
   ]
  },
  {
   "cell_type": "markdown",
   "id": "e2cddd5b",
   "metadata": {},
   "source": [
    "### Step 0. 데이터 정규화"
   ]
  },
  {
   "cell_type": "code",
   "execution_count": null,
   "id": "9c94a499",
   "metadata": {},
   "outputs": [],
   "source": [
    "# train 데이터를 기반으로 train/validation/test 데이터에 대하여 standard scaling 적용 (평균 0, 분산 1) \n",
    "scaler = StandardScaler()\n",
    "scaler = scaler.fit(X_train)"
   ]
  },
  {
   "cell_type": "code",
   "execution_count": null,
   "metadata": {},
   "outputs": [],
   "source": [
    "lof_X_train = pd.DataFrame(scaler.transform(X_train), \n",
    "                           columns=X_train.columns, index=X_train.index)\n",
    "lof_X_valid = pd.DataFrame(scaler.transform(X_valid), \n",
    "                           columns=X_valid.columns, index=X_valid.index)\n",
    "lof_X_test = pd.DataFrame(scaler.transform(X_test), \n",
    "                          columns=X_test.columns, index=X_test.index)"
   ]
  },
  {
   "cell_type": "markdown",
   "id": "0613ec43",
   "metadata": {},
   "source": [
    "### Step 1. Train 데이터 기반 모델 적합"
   ]
  },
  {
   "cell_type": "markdown",
   "id": "56dfb0b1",
   "metadata": {},
   "source": [
    "- LocalOutlierFactor 설명\n",
    "    - n_neighbors: neighbors 개수 (default = 20)\n",
    "    - algorithm: nearest neighbors 계산 방법 ('auto', 'ball_tree', 'kd_tree', 'brute'} (default = 'auto')\n",
    "    - metric: distance 계산 방법 (default = 'minkowski')\n",
    "    - novelty: True (for novelty detection - no oulier in train data), False (for outlier detection - ouliers in train data) (default = False)"
   ]
  },
  {
   "cell_type": "code",
   "execution_count": null,
   "metadata": {},
   "outputs": [],
   "source": [
    "# LOF 모델 적합\n",
    "lof_model = LocalOutlierFactor(n_neighbors=5, novelty=True)\n",
    "lof_model.fit(lof_X_train)"
   ]
  },
  {
   "cell_type": "markdown",
   "id": "c3eac34f",
   "metadata": {},
   "source": [
    "### Step 2. 적합된 모델을 기반으로 train/test 데이터의 anomaly score 도출"
   ]
  },
  {
   "cell_type": "code",
   "execution_count": null,
   "id": "6be01850",
   "metadata": {},
   "outputs": [],
   "source": [
    "# train/validation/test 데이터의 LOF score 도출\n",
    "lof_train = - 1.0 * lof_model.score_samples(lof_X_train)\n",
    "lof_valid = - 1.0 * lof_model.score_samples(lof_X_valid)\n",
    "lof_test = - 1.0 * lof_model.score_samples(lof_X_test)"
   ]
  },
  {
   "cell_type": "code",
   "execution_count": null,
   "id": "07cd235c",
   "metadata": {},
   "outputs": [],
   "source": [
    "# train/validation/test 데이터의 anomaly score 분포 시각화\n",
    "fig, (ax1, ax2, ax3) = plt.subplots(nrows=3, ncols=1, figsize = (12, 8))\n",
    "\n",
    "sns.distplot(lof_train, bins=100, kde=True, color='blue', ax=ax1)\n",
    "sns.distplot(lof_valid, bins=100, kde=True, color='green', ax=ax2)\n",
    "sns.distplot(lof_test, bins=100, kde=True, color='red', ax=ax3)\n",
    "ax1.set_title(\"Train Data\")\n",
    "ax2.set_title(\"Validation Data\")\n",
    "ax3.set_title(\"Test Data\")"
   ]
  },
  {
   "cell_type": "markdown",
   "id": "8f71f279",
   "metadata": {},
   "source": [
    "### Step 3. Threshold 탐색"
   ]
  },
  {
   "cell_type": "code",
   "execution_count": null,
   "id": "50aec9eb",
   "metadata": {},
   "outputs": [],
   "source": [
    "# threshold 탐색\n",
    "# score의 min ~ max 범위를 num_step개로 균등 분할한 threshold에 대하여 best threshold 탐색 \n",
    "def search_best_threshold(score, y_true, num_step):\n",
    "    best_f1 = 0\n",
    "    best_threshold = None\n",
    "    for threshold in np.linspace(min(score), max(score), num_step):\n",
    "        y_pred = threshold < score\n",
    "\n",
    "        f1 = f1_score(y_true, y_pred)\n",
    "        if f1 > best_f1:\n",
    "            best_f1 = f1\n",
    "            best_threshold = threshold\n",
    "\n",
    "    print('Best threshold: ', round(best_threshold, 4))\n",
    "    print('Best F1 Score:', round(best_f1, 4))\n",
    "    return best_threshold"
   ]
  },
  {
   "cell_type": "code",
   "execution_count": null,
   "id": "c0e3e858",
   "metadata": {},
   "outputs": [],
   "source": [
    "# best threshold 도출\n",
    "lof_best_threshold = search_best_threshold(lof_valid, y_valid, num_step=1000)"
   ]
  },
  {
   "cell_type": "markdown",
   "id": "483e8f09",
   "metadata": {},
   "source": [
    "### Step 4. Best threshold를 기반으로 이상치 탐지 모형 평가"
   ]
  },
  {
   "cell_type": "code",
   "execution_count": null,
   "id": "27531479",
   "metadata": {},
   "outputs": [],
   "source": [
    "# 최종 결과 도출\n",
    "lof_scores = pd.DataFrame(columns=['score', 'anomaly'])\n",
    "for date, score in zip([X_train.index, X_valid.index, X_test.index], [lof_train, lof_valid, lof_test]):\n",
    "    lof_score = pd.DataFrame(index=date)\n",
    "    lof_score['score'] = score\n",
    "    lof_score['anomaly'] = lof_best_threshold < score\n",
    "    lof_scores = lof_scores.append(lof_score)"
   ]
  },
  {
   "cell_type": "code",
   "execution_count": null,
   "id": "825c07af",
   "metadata": {},
   "outputs": [],
   "source": [
    "lof_scores = lof_scores.sort_index()\n",
    "lof_scores.head()"
   ]
  },
  {
   "cell_type": "code",
   "execution_count": null,
   "id": "99a2eef8",
   "metadata": {},
   "outputs": [],
   "source": [
    "# anomaly score plot 도출\n",
    "def draw_plot(scores, threshold):\n",
    "    normal_scores = scores[scores['anomaly'] == False]\n",
    "    abnormal_scores = scores[scores['anomaly'] == True]\n",
    "\n",
    "    plt.figure(figsize = (12,5))\n",
    "    plt.scatter(normal_scores.index, normal_scores['score'], label='Normal', c='blue', s=3)\n",
    "    plt.scatter(abnormal_scores.index, abnormal_scores['score'], label='Abnormal', c='red', s=3)\n",
    "    \n",
    "    plt.axhline(threshold, c='green', alpha=0.7)\n",
    "    plt.axvline(data.index[int(len(data) * 0.5)], c='orange', ls='--')\n",
    "    plt.axvline(data.index[int(len(data) * 0.7)], c='orange', ls='--')\n",
    "    \n",
    "    plt.xlabel('Date')\n",
    "    plt.ylabel('Anomaly Score')\n",
    "    plt.legend()\n",
    "    \n",
    "    plt.show()"
   ]
  },
  {
   "cell_type": "code",
   "execution_count": null,
   "id": "9863f976",
   "metadata": {},
   "outputs": [],
   "source": [
    "# 전체 데이터의 anomaly score 확인\n",
    "draw_plot(lof_scores, lof_best_threshold)"
   ]
  },
  {
   "cell_type": "code",
   "execution_count": null,
   "id": "3260ad2a",
   "metadata": {},
   "outputs": [],
   "source": [
    "# FRR, FAR, F1 score, AUROC 도출\n",
    "def calculate_metric(y_true, y_pred):\n",
    "    # FRR, FAR\n",
    "    cm = confusion_matrix(y_true, y_pred, labels=[True, False])\n",
    "    tp, fn, fp, tn = cm.ravel()\n",
    "    frr = fp / (fp + tn)\n",
    "    far = fn / (fn + tp) \n",
    "    \n",
    "    # F1 Score\n",
    "    f1 = f1_score(y_true, y_pred)\n",
    "    \n",
    "    # AUROC, IE\n",
    "    fpr, tpr, thresholds = roc_curve(y_true, y_pred, pos_label=1)\n",
    "    auroc = auc(fpr, tpr)\n",
    "        \n",
    "    return frr, far, f1, auroc"
   ]
  },
  {
   "cell_type": "code",
   "execution_count": null,
   "id": "ad7d6454",
   "metadata": {},
   "outputs": [],
   "source": [
    "# 평가 지표 결과 확인\n",
    "frr, far, f1, auroc = calculate_metric(y_test, lof_best_threshold < lof_test)\n",
    "\n",
    "print(\"**  FRR: {}  |  FAR: {}  |  F1 Score: {}  |  AUROC: {}\"\n",
    "      .format(round(frr, 4), round(far, 4), round(f1, 4), round(auroc, 4)))"
   ]
  },
  {
   "cell_type": "markdown",
   "id": "62458c64",
   "metadata": {},
   "source": [
    "----"
   ]
  },
  {
   "cell_type": "markdown",
   "id": "0559eb67",
   "metadata": {},
   "source": [
    "## 4. Isolation Forest\n",
    "\n",
    ">하나의 객체를 고립시키는 의사결정나무를 생성하여 이상치를 탐지하고자 함 <br>\n",
    ">정상 데이터는 고립시키는데 많은 분기가 필요하지만, 이상치 데이터라면 상대적으로 적은 분기만으로 고립이 가능함"
   ]
  },
  {
   "cell_type": "markdown",
   "id": "0ea08d45",
   "metadata": {},
   "source": [
    "<img src=\"https://i.imgur.com/VVbACBB.jpg\" width=\"700\">"
   ]
  },
  {
   "cell_type": "code",
   "execution_count": null,
   "id": "012ecdab",
   "metadata": {},
   "outputs": [],
   "source": [
    "# Isolation Forest 모듈 불러오기\n",
    "\n",
    "from sklearn.ensemble import IsolationForest"
   ]
  },
  {
   "cell_type": "markdown",
   "id": "d78ec1d7",
   "metadata": {},
   "source": [
    "### Step 1. Train 데이터 기반 모델 적합"
   ]
  },
  {
   "cell_type": "markdown",
   "id": "693cfc37",
   "metadata": {},
   "source": [
    "- IsolationForest 설명\n",
    "    - n_estimators: 트리 개수 (default = 100)\n",
    "    - bootstrap: 데이터의 중복 사용 여부 (default = False)\n",
    "    - max_samples: 데이터 샘플 중 선택할 샘플의 수 혹은 비율 ('auto': max_samples=min(256, n_samples)) (default = 'auto')"
   ]
  },
  {
   "cell_type": "code",
   "execution_count": null,
   "id": "b7799374",
   "metadata": {},
   "outputs": [],
   "source": [
    "if_model = IsolationForest(random_state=2024)\n",
    "if_model.fit(X_train)"
   ]
  },
  {
   "cell_type": "markdown",
   "id": "4267432b",
   "metadata": {},
   "source": [
    "### Step 2. 적합된 모델을 기반으로 train/test 데이터의 anomaly score 도출"
   ]
  },
  {
   "cell_type": "code",
   "execution_count": null,
   "id": "b738efd1",
   "metadata": {},
   "outputs": [],
   "source": [
    "# train/validation/test 데이터의 IF score 도출\n",
    "if_train = - 1.0 * if_model.score_samples(X_train)\n",
    "if_valid = - 1.0 * if_model.score_samples(X_valid)\n",
    "if_test = - 1.0 * if_model.score_samples(X_test)"
   ]
  },
  {
   "cell_type": "code",
   "execution_count": null,
   "id": "96478b02",
   "metadata": {},
   "outputs": [],
   "source": [
    "# train/validation/test 데이터의 anomaly score 분포 시각화\n",
    "fig, (ax1, ax2, ax3) = plt.subplots(nrows=3, ncols=1, figsize = (12, 8))\n",
    "\n",
    "sns.distplot(if_train, bins=100, kde=True, color='blue', ax=ax1)\n",
    "sns.distplot(if_valid, bins=100, kde=True, color='green', ax=ax2)\n",
    "sns.distplot(if_test, bins=100, kde=True, color='red', ax=ax3)\n",
    "ax1.set_title(\"Train Data\")\n",
    "ax2.set_title(\"Validation Data\")\n",
    "ax3.set_title(\"Test Data\")"
   ]
  },
  {
   "cell_type": "markdown",
   "id": "19d79ea8",
   "metadata": {},
   "source": [
    "### Step 3. Threshold 탐색"
   ]
  },
  {
   "cell_type": "code",
   "execution_count": null,
   "id": "7fad98eb",
   "metadata": {},
   "outputs": [],
   "source": [
    "# best threshold 도출\n",
    "if_best_threshold = search_best_threshold(if_valid, y_valid, num_step=1000)"
   ]
  },
  {
   "cell_type": "markdown",
   "id": "4b0ebe90",
   "metadata": {},
   "source": [
    "### Step 4. Best threshold를 기반으로 이상치 탐지 모형 평가"
   ]
  },
  {
   "cell_type": "code",
   "execution_count": null,
   "id": "ece8cdb9",
   "metadata": {},
   "outputs": [],
   "source": [
    "# 최종 결과 도출\n",
    "if_scores = pd.DataFrame(columns=['score', 'anomaly'])\n",
    "for date, score in zip([X_train.index, X_valid.index, X_test.index], [if_train, if_valid, if_test]):\n",
    "    if_score = pd.DataFrame(index=date)\n",
    "    if_score['score'] = score\n",
    "    if_score['anomaly'] = if_best_threshold < score\n",
    "    if_scores = if_scores.append(if_score)"
   ]
  },
  {
   "cell_type": "code",
   "execution_count": null,
   "id": "5c7511f8",
   "metadata": {},
   "outputs": [],
   "source": [
    "if_scores = if_scores.sort_index()\n",
    "if_scores.head()"
   ]
  },
  {
   "cell_type": "code",
   "execution_count": null,
   "id": "434a4046",
   "metadata": {},
   "outputs": [],
   "source": [
    "# 전체 데이터의 anomaly score 확인\n",
    "draw_plot(if_scores, if_best_threshold)"
   ]
  },
  {
   "cell_type": "code",
   "execution_count": null,
   "id": "c11ac850",
   "metadata": {},
   "outputs": [],
   "source": [
    "# 평가 지표 결과 확인\n",
    "frr, far, f1, auroc = calculate_metric(y_test, if_best_threshold < if_test)\n",
    "\n",
    "print(\"**  FRR: {}  |  FAR: {}  |  F1 Score: {}  |  AUROC: {}\"\n",
    "      .format(round(frr, 4), round(far, 4), round(f1, 4), round(auroc, 4)))"
   ]
  },
  {
   "cell_type": "markdown",
   "id": "5c057192",
   "metadata": {},
   "source": [
    "----"
   ]
  }
 ],
 "metadata": {
  "kernelspec": {
   "display_name": "ttest3.8",
   "language": "python",
   "name": "ttest3.8"
  },
  "language_info": {
   "codemirror_mode": {
    "name": "ipython",
    "version": 3
   },
   "file_extension": ".py",
   "mimetype": "text/x-python",
   "name": "python",
   "nbconvert_exporter": "python",
   "pygments_lexer": "ipython3",
   "version": "3.8.13"
  }
 },
 "nbformat": 4,
 "nbformat_minor": 5
}
